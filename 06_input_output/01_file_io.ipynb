{
 "cells": [
  {
   "cell_type": "markdown",
   "metadata": {},
   "source": [
    "# 01. 파일 입출력\n",
    "---\n",
    "## 01-01. 파일 접근\n",
    "### 01-01-01. 파일 열기 open()\n",
    "* 인자로 경로를 포함한 파일명과 파일 열기 모드를 알파벳으로 전달하면서 호출하면 파일 객체를 반환하는 함수\n",
    "* 첫번째 매개변수 : 파일명(경로 포함)\n",
    "* 두번째 매개변수 : 파일 열기 모드를 설정\n",
    "    * r : 읽기 모드\n",
    "    * w : 쓰기 모드(덮어쓰기), 기존 파일이 없으면 새로운 파일이 생성된다.\n",
    "    * a : 수정 모드(파일 끝에 내용 추가)"
   ]
  },
  {
   "cell_type": "code",
   "execution_count": 1,
   "metadata": {},
   "outputs": [],
   "source": [
    "f = open('song.txt', 'r')"
   ]
  },
  {
   "cell_type": "markdown",
   "metadata": {},
   "source": [
    "### 01-01-02. 파일 닫기 : close()\n",
    "* 열려있는 파일 객체를 닫아주는 역할"
   ]
  },
  {
   "cell_type": "code",
   "execution_count": 2,
   "metadata": {},
   "outputs": [],
   "source": [
    "f.close()"
   ]
  },
  {
   "cell_type": "markdown",
   "metadata": {},
   "source": [
    "---\n",
    "## 01-02. 파일 쓰기\n",
    "### 01-02-01. write()\n",
    "* open한 파일 객체에 대해 write() 메소드를 사용하면 인자로 넘겨준 하나의 문자열을 파일에 작성한다."
   ]
  },
  {
   "cell_type": "code",
   "execution_count": 3,
   "metadata": {},
   "outputs": [],
   "source": [
    "f = open('song_test.txt', 'w')\n",
    "f.write('꿈과 책과 힘과 벽 사이를')\n",
    "f.close()"
   ]
  },
  {
   "cell_type": "markdown",
   "metadata": {},
   "source": [
    "### 01-02-02. writelines()\n",
    "* 인자로 넘겨준 리스트의 요소를 하나하나 파일에 작성한다."
   ]
  },
  {
   "cell_type": "code",
   "execution_count": 5,
   "metadata": {},
   "outputs": [],
   "source": [
    "data = [\n",
    "    '꿈과 책과 힘과 벽 사이를\\n',\n",
    "    '눈치 보기에 바쁜 나날들\\n',\n",
    "    '\\n'\n",
    "    '소년이여 야망을 가져라\\n',\n",
    "    '무책임한 격언 따위에\\n',\n",
    "    '저 바다를 호령하는 거야'\n",
    "]\n",
    "\n",
    "f = open('song_test.txt', 'w')\n",
    "f.writelines(data)\n",
    "f.close()"
   ]
  },
  {
   "cell_type": "markdown",
   "metadata": {},
   "source": [
    "---\n",
    "## 01-03. 파일 읽기\n",
    "### 01-03-01. 파일 전체 읽기 read()\n",
    "* 파일 전체 내용을 읽어와 하나의 문자열로 반환한다."
   ]
  },
  {
   "cell_type": "code",
   "execution_count": 7,
   "metadata": {},
   "outputs": [
    {
     "name": "stdout",
     "output_type": "stream",
     "text": [
      "꿈과 책과 힘과 벽 사이를\n",
      "눈치 보기에 바쁜 나날들\n",
      "\n",
      "소년이여 야망을 가져라\n",
      "무책임한 격언 따위에\n",
      "저 바다를 호령하는 거야\n",
      "\n",
      "어처구니없던 나의 어린 꿈\n",
      "가질 수 없음을 알게 되던 날\n",
      "두드러기처럼 돋은 심술이\n",
      "끝내 그 이름 더럽히고 말았네\n"
     ]
    }
   ],
   "source": [
    "f = open('song.txt', 'r')\n",
    "data = f.read()\n",
    "print(data)\n",
    "f.close()"
   ]
  },
  {
   "cell_type": "markdown",
   "metadata": {},
   "source": [
    "### 01-03-02. 파일에서 한줄만 읽기 : readline()"
   ]
  },
  {
   "cell_type": "code",
   "execution_count": 10,
   "metadata": {},
   "outputs": [
    {
     "name": "stdout",
     "output_type": "stream",
     "text": [
      "꿈과 책과 힘과 벽 사이를\n",
      "\n",
      "눈치 보기에 바쁜 나날들\n",
      "\n",
      "\n",
      "\n",
      "소년이여 야망을 가져라\n",
      "\n",
      "무책임한 격언 따위에\n",
      "\n",
      "저 바다를 호령하는 거야\n",
      "\n",
      "\n",
      "\n",
      "어처구니없던 나의 어린 꿈\n",
      "\n",
      "가질 수 없음을 알게 되던 날\n",
      "\n",
      "두드러기처럼 돋은 심술이\n",
      "\n",
      "끝내 그 이름 더럽히고 말았네\n",
      "\n"
     ]
    }
   ],
   "source": [
    "f = open('song.txt', 'r')\n",
    "\n",
    "while True:\n",
    "    data = f.readline()\n",
    "    print(data)\n",
    "    if not data:\n",
    "        break;\n",
    "    \n",
    "f.close()"
   ]
  },
  {
   "cell_type": "code",
   "execution_count": 11,
   "metadata": {},
   "outputs": [
    {
     "name": "stdout",
     "output_type": "stream",
     "text": [
      "['꿈과 책과 힘과 벽 사이를\\n', '눈치 보기에 바쁜 나날들\\n', '\\n', '소년이여 야망을 가져라\\n', '무책임한 격언 따위에\\n', '저 바다를 호령하는 거야\\n', '\\n', '어처구니없던 나의 어린 꿈\\n', '가질 수 없음을 알게 되던 날\\n', '두드러기처럼 돋은 심술이\\n', '끝내 그 이름 더럽히고 말았네']\n"
     ]
    }
   ],
   "source": [
    "# 파일 전체를 줄마다(리스트 형태로) 가져오기\n",
    "f = open('song.txt', 'r')\n",
    "data = f.readlines()\n",
    "print(data)\n",
    "f.close()"
   ]
  },
  {
   "cell_type": "markdown",
   "metadata": {},
   "source": [
    "---\n",
    "## 01-04. 파일 내용 추가하기\n",
    "### 01-04-01. 파일 내용 추가 모드\n",
    "* 추가모드 'a'를 사용하여 파일을 열어 내용을 추가할 수 있다.\n",
    "* 쓰기모드('w')로 파일을 열 때 이미 존재하는 파일을 열게되면 그 파일의 내용이 사라진다."
   ]
  },
  {
   "cell_type": "code",
   "execution_count": 15,
   "metadata": {},
   "outputs": [],
   "source": [
    "f = open('song.txt', 'a')\n",
    "f.write('\\n-노래 끝-')\n",
    "f.close()"
   ]
  },
  {
   "cell_type": "markdown",
   "metadata": {},
   "source": [
    "---\n",
    "## 01-05. with 키워드\n",
    "* 파일을 열어서 사용하고 사용이 종료되면 닫는 역할을 한다.\n",
    "* with문을 사용하면 with블록을 벗어나는 순간 객체가 닫히게된다."
   ]
  },
  {
   "cell_type": "code",
   "execution_count": 17,
   "metadata": {},
   "outputs": [],
   "source": [
    "with open('song_test.txt', 'w') as f:\n",
    "    f.write('Life is too short, you need python.')"
   ]
  }
 ],
 "metadata": {
  "kernelspec": {
   "display_name": "pylecture_env",
   "language": "python",
   "name": "python3"
  },
  "language_info": {
   "codemirror_mode": {
    "name": "ipython",
    "version": 3
   },
   "file_extension": ".py",
   "mimetype": "text/x-python",
   "name": "python",
   "nbconvert_exporter": "python",
   "pygments_lexer": "ipython3",
   "version": "3.12.7"
  }
 },
 "nbformat": 4,
 "nbformat_minor": 2
}
