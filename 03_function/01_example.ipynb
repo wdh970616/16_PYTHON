{
 "cells": [
  {
   "cell_type": "code",
   "execution_count": 24,
   "metadata": {},
   "outputs": [
    {
     "name": "stdout",
     "output_type": "stream",
     "text": [
      "945\n"
     ]
    }
   ],
   "source": [
    "# 여러 개의 숫자를 입력받아 모두 곱한 결과를 반환하는 multiply_all 함수를 만드세요.\n",
    "\n",
    "def multiply_all():\n",
    "    \n",
    "    numbers = []\n",
    "    result = 1\n",
    "\n",
    "    while True:\n",
    "        input_number = int(input(\"추가할 숫자를 입력하세요(0을 입력하면 종료)\"))\n",
    "    \n",
    "        if input_number == 0:\n",
    "            break;\n",
    "        else:\n",
    "            numbers.append(input_number)\n",
    "\n",
    "    for number in numbers:\n",
    "        result = result * number\n",
    "    \n",
    "    return result\n",
    "\n",
    "print(multiply_all())"
   ]
  },
  {
   "cell_type": "code",
   "execution_count": 31,
   "metadata": {},
   "outputs": [
    {
     "name": "stdout",
     "output_type": "stream",
     "text": [
      "0\n"
     ]
    }
   ],
   "source": [
    "# 숫자를 입력받아 양수인지 음수인지 0인지 판별하는 check_number 함수를 삼항 연산자를 사용하여 만드세요.\n",
    "\n",
    "def check_number():\n",
    "    number = int(input('숫자를 입력하세요'))\n",
    "    return '0' if number == 0 else ('양수' if number > 0 else '음수')\n",
    "\n",
    "print(check_number())"
   ]
  },
  {
   "cell_type": "code",
   "execution_count": 35,
   "metadata": {},
   "outputs": [
    {
     "name": "stdout",
     "output_type": "stream",
     "text": [
      "[1, 4, 9, 16, 25]\n"
     ]
    }
   ],
   "source": [
    "# 주어진 리스트의 각 요소를 제곱하는 람다 함수를 작성하세요.\n",
    "numbers = [1, 2, 3, 4, 5]\n",
    "\n",
    "numbers_double = map(lambda number : number ** 2, numbers)\n",
    "\n",
    "print(\n",
    "    list(numbers_double)\n",
    ")"
   ]
  }
 ],
 "metadata": {
  "kernelspec": {
   "display_name": "pylecture_env",
   "language": "python",
   "name": "python3"
  },
  "language_info": {
   "codemirror_mode": {
    "name": "ipython",
    "version": 3
   },
   "file_extension": ".py",
   "mimetype": "text/x-python",
   "name": "python",
   "nbconvert_exporter": "python",
   "pygments_lexer": "ipython3",
   "version": "3.12.7"
  }
 },
 "nbformat": 4,
 "nbformat_minor": 2
}
