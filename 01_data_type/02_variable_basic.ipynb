{
 "cells": [
  {
   "cell_type": "markdown",
   "metadata": {
    "vscode": {
     "languageId": "plaintext"
    }
   },
   "source": [
    "# 02. 기본 자료형\n",
    "---"
   ]
  },
  {
   "cell_type": "markdown",
   "metadata": {},
   "source": [
    "## 02-01. 숫자형 (Numberic)\n",
    "### 02-01-01. 숫자 자료형의 종류\n",
    "* 파이썬에서는 정수, 실수, 복소수 등 숫자를 표현하는 자료형을 모두 숫자 자료형이라고 표현한다."
   ]
  },
  {
   "cell_type": "code",
   "execution_count": 1,
   "metadata": {},
   "outputs": [
    {
     "name": "stdout",
     "output_type": "stream",
     "text": [
      "<class 'int'>\n",
      "<class 'int'>\n",
      "<class 'float'>\n",
      "<class 'float'>\n",
      "<class 'complex'>\n"
     ]
    }
   ],
   "source": [
    "# int\n",
    "num1 = 1\n",
    "num2 = -1\n",
    "\n",
    "print(type(num1))\n",
    "print(type(num2))\n",
    "\n",
    "# float\n",
    "num3 = 3.14\n",
    "num4 = 1.0\n",
    "\n",
    "print(type(num3))\n",
    "print(type(num4))\n",
    "\n",
    "# complex\n",
    "num5 = 3 + 4j\n",
    "\n",
    "print(type(num5))"
   ]
  },
  {
   "cell_type": "markdown",
   "metadata": {},
   "source": [
    "### 02-01-02. 숫자 자료형의 연산\n",
    "* 숫자 자료형 간에 기본적인 사칙연산과 파이썬에서만 가능한 특수연산을 할 수 있다."
   ]
  },
  {
   "cell_type": "code",
   "execution_count": 2,
   "metadata": {},
   "outputs": [
    {
     "name": "stdout",
     "output_type": "stream",
     "text": [
      "13\n",
      "7\n",
      "30\n",
      "3.3333333333333335\n"
     ]
    }
   ],
   "source": [
    "# 사칙연산\n",
    "num1 = 10\n",
    "num2 = 3\n",
    "\n",
    "print(num1 + num2)\n",
    "print(num1 - num2)\n",
    "print(num1 * num2)\n",
    "print(num1 / num2)"
   ]
  },
  {
   "cell_type": "code",
   "execution_count": 3,
   "metadata": {},
   "outputs": [
    {
     "name": "stdout",
     "output_type": "stream",
     "text": [
      "10.1\n",
      "9.9\n",
      "1.0\n",
      "100.0\n"
     ]
    }
   ],
   "source": [
    "# 서로 다른 자료형의 피연산자를 가질 경우 정수형을 실수형으로 자동 변환한다.\n",
    "num3 = 10\n",
    "num4 = 0.1\n",
    "\n",
    "print(num3 + num4)\n",
    "print(num3 - num4)\n",
    "print(num3 * num4)\n",
    "print(num3 / num4)"
   ]
  },
  {
   "cell_type": "code",
   "execution_count": 5,
   "metadata": {},
   "outputs": [
    {
     "name": "stdout",
     "output_type": "stream",
     "text": [
      "1.5714285714285714\n",
      "4\n",
      "1\n"
     ]
    }
   ],
   "source": [
    "# 나눗셈 나머지 연산과 몫 연산\n",
    "num1 = 11\n",
    "num2 = 7\n",
    "\n",
    "# 나눗셈 연산\n",
    "print(num1 / num2)\n",
    "\n",
    "# 나머지 연산\n",
    "print(num1 % num2)\n",
    "\n",
    "# 몫만 구하는 연산\n",
    "print(num1 // num2)"
   ]
  },
  {
   "cell_type": "code",
   "execution_count": 8,
   "metadata": {},
   "outputs": [
    {
     "name": "stdout",
     "output_type": "stream",
     "text": [
      "16\n"
     ]
    }
   ],
   "source": [
    "# 제곱 연산\n",
    "base = 2\n",
    "exponent = 4\n",
    "\n",
    "# 2의 4제곱\n",
    "print(base ** exponent)"
   ]
  },
  {
   "cell_type": "code",
   "execution_count": 12,
   "metadata": {},
   "outputs": [
    {
     "data": {
      "text/plain": [
       "4"
      ]
     },
     "execution_count": 12,
     "metadata": {},
     "output_type": "execute_result"
    }
   ],
   "source": [
    "# 값과 연산자 입력만으로 연산 수행 가능\n",
    "2 + 2"
   ]
  },
  {
   "cell_type": "markdown",
   "metadata": {},
   "source": [
    "## 02-02. 논리형(Boolean)\n",
    "### 02-02-01. 논리 자료형\n",
    "* true 또는 falsse 값을 가지는 자료형\n",
    "* 논리 자요형은 문자열이 아니므로 따옴표(,)로 감싸서는 안되며, 첫 글자를 반드시 대문자로 작성해야한다.\n",
    "* 또한 논리 자료형은 자료형 자체로 사용하기도 하지만 비교 연산, 논리 연산의 결과로 논리 자료형이 반환된다."
   ]
  },
  {
   "cell_type": "code",
   "execution_count": 16,
   "metadata": {},
   "outputs": [
    {
     "name": "stdout",
     "output_type": "stream",
     "text": [
      "<class 'bool'>\n",
      "<class 'bool'>\n"
     ]
    }
   ],
   "source": [
    "bool1 = True\n",
    "bool2 = False\n",
    "\n",
    "print(type(bool1))\n",
    "print(type(bool2))"
   ]
  },
  {
   "cell_type": "markdown",
   "metadata": {},
   "source": [
    "### 02-02-02. 논리 자료형의 연산\n",
    "* 비교 연산 : ==, !=, >, <, >=, <=\n",
    "    - == : 좌항과 우항의 값이 동일한지 비교하여, 같으면 True, 같지 않으면 False를 반환한다.\n",
    "    - != : 좌항과 우항의 값이 같지 않은지 비교하여, 서로 다르면 True, 같으면 False를 반환한다.\n",
    "    - \\>, < : 일반적으로 수학에서 사용하는 부등호와 같이 좌항과 우항의 크고 작음을 비교한다.\n",
    "    - \\>=, <= : 같거나 크다 또는 같거나 작다를 비교한다."
   ]
  },
  {
   "cell_type": "code",
   "execution_count": 17,
   "metadata": {},
   "outputs": [
    {
     "name": "stdout",
     "output_type": "stream",
     "text": [
      "False\n",
      "True\n",
      "False\n",
      "True\n",
      "False\n",
      "True\n"
     ]
    }
   ],
   "source": [
    "print(1 == 3)\n",
    "print(1 != 3)\n",
    "print(1 > 3)\n",
    "print(1 < 3)\n",
    "print(1 >= 3)\n",
    "print(1 <= 3)"
   ]
  },
  {
   "cell_type": "code",
   "execution_count": 19,
   "metadata": {},
   "outputs": [
    {
     "name": "stdout",
     "output_type": "stream",
     "text": [
      "True\n",
      "False\n",
      "True\n",
      "True\n",
      "False\n"
     ]
    }
   ],
   "source": [
    "# 논리 연산\n",
    "# and\n",
    "print(1 != 3 and 100 > 99 and True)\n",
    "print(1 != 3 and 100 > 99 and 100 < 99)\n",
    "\n",
    "# or\n",
    "print(1 == 3 or 100 < 99 or True)\n",
    "\n",
    "# not : 불리언 값을 반전시킨다.\n",
    "print(not 'ohgiraffers' == 'Ohgiraffers')\n",
    "print(not True)"
   ]
  },
  {
   "cell_type": "markdown",
   "metadata": {},
   "source": [
    "---\n",
    "## 02-03. 문자형(String)\n",
    "### 02-03-01. 문자형 선언\n",
    "* 쌍따옴표(\" \") 또는 홀따옴표(' ')를 사용하여 문자형 리터럴을 선언할 수 있다."
   ]
  },
  {
   "cell_type": "code",
   "execution_count": 20,
   "metadata": {},
   "outputs": [],
   "source": [
    "my_name = 'seongmin'\n",
    "my_name2 = \"seongmin\""
   ]
  },
  {
   "cell_type": "markdown",
   "metadata": {},
   "source": [
    "* 삼중따옴표를 사용해 여러줄(멀티라인)으로 출력할 수 있다."
   ]
  },
  {
   "cell_type": "code",
   "execution_count": 21,
   "metadata": {},
   "outputs": [
    {
     "name": "stdout",
     "output_type": "stream",
     "text": [
      "\n",
      "세상에서 제일 긴 게 뭘까요?\n",
      "기차? 기린의 목? 코끼리의 코?\n",
      "전부 아닙니다.\n",
      "여러분의 무한한 가능성입니다!\n",
      "\n"
     ]
    }
   ],
   "source": [
    "print(\"\"\"\n",
    "세상에서 제일 긴 게 뭘까요?\n",
    "기차? 기린의 목? 코끼리의 코?\n",
    "전부 아닙니다.\n",
    "여러분의 무한한 가능성입니다!\n",
    "\"\"\")"
   ]
  },
  {
   "cell_type": "markdown",
   "metadata": {},
   "source": [
    "### 02-03-02. 문자형 연산"
   ]
  },
  {
   "cell_type": "code",
   "execution_count": 25,
   "metadata": {},
   "outputs": [
    {
     "name": "stdout",
     "output_type": "stream",
     "text": [
      "아버지가방에들어가신다.\n",
      "아버지가 방에 들어가신다.\n"
     ]
    }
   ],
   "source": [
    "# 문자열 이어붙이기\n",
    "str1 = \"아버지가\"\n",
    "str2 = \"방에\"\n",
    "str3 = \"들어가신다.\"\n",
    "\n",
    "print(str1 + str2 + str3)\n",
    "print(str1 + \" \" + str2 + \" \" + str3)"
   ]
  },
  {
   "cell_type": "code",
   "execution_count": 27,
   "metadata": {},
   "outputs": [
    {
     "name": "stdout",
     "output_type": "stream",
     "text": [
      "900살입니다.\n"
     ]
    }
   ],
   "source": [
    "# 다른 자료형과 연산 불가(자동형변환이 불가함)\n",
    "# print(900 + \"살\" + \"입니다.\")\n",
    "\n",
    "print(str(900) + \"살\" + \"입니다.\")"
   ]
  },
  {
   "cell_type": "code",
   "execution_count": 30,
   "metadata": {},
   "outputs": [
    {
     "name": "stdout",
     "output_type": "stream",
     "text": [
      "나는 python을(를) 잘 할 수 있다!\n",
      "나는 python을(를) 잘 할 수 있다!\n",
      "나는 python을(를) 잘 할 수 있다!\n",
      "\n"
     ]
    }
   ],
   "source": [
    "# 문자열 반복하기 : *\n",
    "subject = 'python'\n",
    "\n",
    "print((\"나는\" + \" \" + subject + \"을(를) 잘 할 수 있다!\\n\") * 3)"
   ]
  },
  {
   "cell_type": "markdown",
   "metadata": {},
   "source": [
    "### 02-03-03. 문자형의 메소드"
   ]
  },
  {
   "cell_type": "code",
   "execution_count": 32,
   "metadata": {},
   "outputs": [
    {
     "name": "stdout",
     "output_type": "stream",
     "text": [
      "2024-12-16\n"
     ]
    }
   ],
   "source": [
    "# replace()\n",
    "# 문자를 찾아서 바꿀 때 사용한다\n",
    "enroll_date = '2024/12/16'\n",
    "rep_enroll_date = enroll_date.replace(\"/\", \"-\")\n",
    "\n",
    "print(rep_enroll_date)"
   ]
  },
  {
   "cell_type": "code",
   "execution_count": 33,
   "metadata": {},
   "outputs": [
    {
     "name": "stdout",
     "output_type": "stream",
     "text": [
      "  oh    gira ffer     s \n"
     ]
    }
   ],
   "source": [
    "# strip()\n",
    "origin = 'ohgiraffers'\n",
    "with_white_space = '  oh    gira ffer     s '\n",
    "\n",
    "print(with_white_space)"
   ]
  }
 ],
 "metadata": {
  "kernelspec": {
   "display_name": "pylecture_env",
   "language": "python",
   "name": "python3"
  },
  "language_info": {
   "codemirror_mode": {
    "name": "ipython",
    "version": 3
   },
   "file_extension": ".py",
   "mimetype": "text/x-python",
   "name": "python",
   "nbconvert_exporter": "python",
   "pygments_lexer": "ipython3",
   "version": "3.12.7"
  }
 },
 "nbformat": 4,
 "nbformat_minor": 2
}
