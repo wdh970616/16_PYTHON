{
 "cells": [
  {
   "cell_type": "markdown",
   "metadata": {},
   "source": [
    "# 06. set"
   ]
  },
  {
   "cell_type": "markdown",
   "metadata": {},
   "source": [
    "---\n",
    "## 06-01. set 개요\n",
    "### 06-01-01. set이란?\n",
    "* 중복된 요소를 허용하지 않으며 순서없이 요소를 저장하는 자료형\n",
    "* 중복제거가 필요할 때 유용하게 사용한다.\n",
    "* 중괄호{}를 사용해서 집합을 생성한다."
   ]
  },
  {
   "cell_type": "code",
   "execution_count": 1,
   "metadata": {},
   "outputs": [],
   "source": [
    "safari_set = {'bear', 'koala', 'gorilla', 'squirrel'}\n",
    "\n",
    "# 여러가지 타입 집합 가능\n",
    "mixed_set = {1, 'bear', (1, 2, 3)}"
   ]
  },
  {
   "cell_type": "markdown",
   "metadata": {},
   "source": [
    "* set()을 사용해 형변환도 가능하다."
   ]
  },
  {
   "cell_type": "code",
   "execution_count": 2,
   "metadata": {},
   "outputs": [
    {
     "name": "stdout",
     "output_type": "stream",
     "text": [
      "<class 'set'>\n"
     ]
    }
   ],
   "source": [
    "safari_set2 = set(['monkey', 'tiger', 'wolf'])\n",
    "\n",
    "print(type(safari_set2))"
   ]
  },
  {
   "cell_type": "markdown",
   "metadata": {},
   "source": [
    "### 06-01-02. set의 특징\n",
    "1. 순서가 없는 자료형이며 순서가 없기 때문에 인덱스를 사용한 접근이 불가"
   ]
  },
  {
   "cell_type": "code",
   "execution_count": 3,
   "metadata": {},
   "outputs": [
    {
     "name": "stdout",
     "output_type": "stream",
     "text": [
      "{'bear', 'pig', 'squirrel', 'gorilla'}\n"
     ]
    }
   ],
   "source": [
    "ohgiraffers = {'pig', 'squirrel', 'bear', 'gorilla'}\n",
    "\n",
    "# print(ohgiraffers[0])\n",
    "print(ohgiraffers)"
   ]
  },
  {
   "cell_type": "markdown",
   "metadata": {},
   "source": [
    "2. 중복을 허용하지 않으므로 동일한 값은 하나만 저장한다."
   ]
  },
  {
   "cell_type": "code",
   "execution_count": 4,
   "metadata": {},
   "outputs": [
    {
     "name": "stdout",
     "output_type": "stream",
     "text": [
      "{'bear', 'pig', 'squirrel', 'gorilla'}\n"
     ]
    }
   ],
   "source": [
    "ohgiraffers = {'pig', 'squirrel', 'bear', 'gorilla', 'pig'}\n",
    "\n",
    "print(ohgiraffers)"
   ]
  },
  {
   "cell_type": "markdown",
   "metadata": {},
   "source": [
    "3. 가변성을 가진 자료형으로 데이터(요소)를 추가하거나 제거할 수 있다.\n",
    "* 순서가 없는 자료형이기 때문에 특정 요소에 접근할 수 없어 직접 변경이 불가능"
   ]
  },
  {
   "cell_type": "code",
   "execution_count": 5,
   "metadata": {},
   "outputs": [
    {
     "name": "stdout",
     "output_type": "stream",
     "text": [
      "{'bear', 'squirrel', 'gorilla'}\n",
      "{'mouse', 'bear', 'squirrel', 'gorilla'}\n"
     ]
    }
   ],
   "source": [
    "ohgiraffers = {'pig', 'squirrel', 'bear', 'gorilla', 'pig'}\n",
    "\n",
    "# 삭제\n",
    "ohgiraffers.remove('pig')\n",
    "print(ohgiraffers)\n",
    "\n",
    "# 추가\n",
    "ohgiraffers.add('mouse')\n",
    "print(ohgiraffers)"
   ]
  },
  {
   "cell_type": "markdown",
   "metadata": {},
   "source": [
    "4. in 키워드를 총해 포함 여부를 반환받을 수 있다."
   ]
  },
  {
   "cell_type": "code",
   "execution_count": 6,
   "metadata": {},
   "outputs": [
    {
     "name": "stdout",
     "output_type": "stream",
     "text": [
      "True\n"
     ]
    }
   ],
   "source": [
    "print('bear' in ohgiraffers)"
   ]
  },
  {
   "cell_type": "markdown",
   "metadata": {},
   "source": [
    "---\n",
    "## 06-02. set의 메소드\n",
    "###"
   ]
  },
  {
   "cell_type": "code",
   "execution_count": 7,
   "metadata": {},
   "outputs": [
    {
     "name": "stdout",
     "output_type": "stream",
     "text": [
      "{'elephant', 'pig', 'bear', 'squirrel', 'gorilla'}\n"
     ]
    }
   ],
   "source": [
    "ohgiraffers = {'pig', 'squirrel', 'bear', 'gorilla', 'pig'}\n",
    "ohgiraffers.add('elephant')\n",
    "print(ohgiraffers)"
   ]
  },
  {
   "cell_type": "markdown",
   "metadata": {},
   "source": [
    "### 2. update()\n",
    "* set에 여러 요소를 추가할 수 있다.\n",
    "* 리스트, 튜플, 문자열 등에서 요소를 가져와 추가할 수 있다."
   ]
  },
  {
   "cell_type": "code",
   "execution_count": 8,
   "metadata": {},
   "outputs": [
    {
     "name": "stdout",
     "output_type": "stream",
     "text": [
      "{'elephant', 'pig', 'monkey', 'bear', 'squirrel', 'gorilla', 'wolf'}\n"
     ]
    }
   ],
   "source": [
    "ohgiraffers.update(['monkey', 'wolf'])\n",
    "print(ohgiraffers)"
   ]
  },
  {
   "cell_type": "markdown",
   "metadata": {},
   "source": [
    "### 06-02-02. 요소를 제거하는 메소드\n",
    "1. remove()\n",
    "* set에서 특정 요소를 제거하는데에 사용된다.\n",
    "* 존재하지 않는 요소를 지우려 했을때 에러가 발생한다."
   ]
  },
  {
   "cell_type": "code",
   "execution_count": 9,
   "metadata": {},
   "outputs": [
    {
     "name": "stdout",
     "output_type": "stream",
     "text": [
      "{'pig', 'monkey', 'bear', 'squirrel', 'gorilla', 'wolf'}\n"
     ]
    }
   ],
   "source": [
    "ohgiraffers.remove('elephant')\n",
    "print(ohgiraffers)"
   ]
  },
  {
   "cell_type": "markdown",
   "metadata": {},
   "source": [
    "2. discard()\n",
    "* set에서 특정요소를 제거하는데에 사용되는 메소드\n",
    "* remove()와 달리 지우려는 요소가 집합에 존재하지 않아도 에러를 발생시키지 않는다."
   ]
  },
  {
   "cell_type": "code",
   "execution_count": 10,
   "metadata": {},
   "outputs": [
    {
     "name": "stdout",
     "output_type": "stream",
     "text": [
      "{'pig', 'monkey', 'bear', 'squirrel', 'gorilla', 'wolf'}\n",
      "{'pig', 'monkey', 'bear', 'squirrel', 'gorilla', 'wolf'}\n"
     ]
    }
   ],
   "source": [
    "print(ohgiraffers)\n",
    "\n",
    "ohgiraffers.discard('cat')\n",
    "print(ohgiraffers)"
   ]
  },
  {
   "cell_type": "markdown",
   "metadata": {},
   "source": [
    "3. pop()\n",
    "* 임의의 요소를 제거하고 그 값을 반환하는 메소드\n",
    "* set은 순서가 없기 때문에 어떤 요소가 삭제될지는 모른다.\n",
    "* 집합이 비었을 때 error가 발생한다."
   ]
  },
  {
   "cell_type": "code",
   "execution_count": 11,
   "metadata": {},
   "outputs": [
    {
     "name": "stdout",
     "output_type": "stream",
     "text": [
      "pig\n",
      "{'monkey', 'bear', 'squirrel', 'gorilla', 'wolf'}\n"
     ]
    }
   ],
   "source": [
    "temp = ohgiraffers.pop()\n",
    "\n",
    "print(temp)\n",
    "print(ohgiraffers)"
   ]
  },
  {
   "cell_type": "markdown",
   "metadata": {},
   "source": [
    "4. clear()\n",
    "* 모든 요소를 제거하고 빈 set으로 만드는 메소드"
   ]
  },
  {
   "cell_type": "code",
   "execution_count": 12,
   "metadata": {},
   "outputs": [
    {
     "name": "stdout",
     "output_type": "stream",
     "text": [
      "set()\n"
     ]
    }
   ],
   "source": [
    "ohgiraffers.clear()\n",
    "print(ohgiraffers)"
   ]
  },
  {
   "cell_type": "markdown",
   "metadata": {},
   "source": [
    "### 06-02-03. 집합 연산 메소드\n",
    "1. union()\n",
    "* 두 개 이상의 집합을 합쳐서 새로운 집합을 반환하는 메소드(합집합)\n",
    "* 중복된 요소를 제거, 모든 요소를 포함하는 새로운 집합을 만든다."
   ]
  },
  {
   "cell_type": "code",
   "execution_count": 13,
   "metadata": {},
   "outputs": [
    {
     "name": "stdout",
     "output_type": "stream",
     "text": [
      "{'bear', 'squirrel', 'gorilla', 'pig', 'tiger'}\n",
      "{'bear', 'squirrel', 'gorilla', 'pig', 'tiger'}\n"
     ]
    }
   ],
   "source": [
    "java_team = {'squirrel', 'gorilla', 'tiger', 'bear'}\n",
    "python_team = {'pig', 'bear'}\n",
    "\n",
    "ohgiraffers = java_team.union(python_team)\n",
    "print(ohgiraffers)\n",
    "\n",
    "print(java_team | python_team)"
   ]
  },
  {
   "cell_type": "markdown",
   "metadata": {},
   "source": [
    "2. intersection()\n",
    "* 두 개 이상의 집합에서 공통된 요소만을 포함하는 새로운 집합을 반환(교집합)"
   ]
  },
  {
   "cell_type": "code",
   "execution_count": 14,
   "metadata": {},
   "outputs": [
    {
     "name": "stdout",
     "output_type": "stream",
     "text": [
      "{'bear'}\n",
      "{'bear'}\n"
     ]
    }
   ],
   "source": [
    "print(java_team.intersection(python_team))\n",
    "print(java_team & python_team)"
   ]
  },
  {
   "cell_type": "markdown",
   "metadata": {},
   "source": [
    "3. difference()\n",
    "* 첫번째 집합에는 포함되지만 두번째 집합에는 포함되지 않는 새로운 집합을 반환 (차집합)"
   ]
  },
  {
   "cell_type": "code",
   "execution_count": 15,
   "metadata": {},
   "outputs": [
    {
     "name": "stdout",
     "output_type": "stream",
     "text": [
      "{'squirrel', 'gorilla', 'tiger'}\n",
      "{'squirrel', 'gorilla', 'tiger'}\n"
     ]
    }
   ],
   "source": [
    "print(java_team.difference(python_team))\n",
    "print(java_team - python_team)"
   ]
  },
  {
   "cell_type": "markdown",
   "metadata": {},
   "source": [
    "4. symmentic_difference()\n",
    "* 합집합에서 교집합을 뺀 결과\n",
    "* 두 집합중 어느 한쪽만 포함된 요소들로 구성된 새로운 집합을 반환하는 메소드"
   ]
  },
  {
   "cell_type": "code",
   "execution_count": 16,
   "metadata": {},
   "outputs": [
    {
     "name": "stdout",
     "output_type": "stream",
     "text": [
      "{'squirrel', 'pig', 'gorilla', 'tiger'}\n",
      "{'squirrel', 'pig', 'gorilla', 'tiger'}\n"
     ]
    }
   ],
   "source": [
    "print(java_team.symmetric_difference(python_team))\n",
    "print(java_team ^ python_team)"
   ]
  },
  {
   "cell_type": "markdown",
   "metadata": {},
   "source": [
    "### 06-02-04. 복사 메소드\n",
    "copy()\n",
    "* 기존 집합의 얕은 복사본을 생성한다.\n",
    "얕은복사<br>\n",
    "=>  원본 집합과 복사본 집합이 서로 독립적, 한쪽을 변경해도 다른쪽에 영향을 미치지 않는다."
   ]
  },
  {
   "cell_type": "code",
   "execution_count": 17,
   "metadata": {},
   "outputs": [
    {
     "name": "stdout",
     "output_type": "stream",
     "text": [
      "{'squirrel', 'gorilla', 'tiger'}\n",
      "{'squirrel', 'gorilla', 'tiger'}\n",
      "{'squirrel', 'gorilla', 'tiger'}\n",
      "{'squirrel', 'gorilla'}\n"
     ]
    }
   ],
   "source": [
    "ohgiraffers = {'squirrel', 'gorilla', 'tiger'}\n",
    "zzap_ohgiraffers = ohgiraffers.copy()\n",
    "\n",
    "print(ohgiraffers)\n",
    "print(zzap_ohgiraffers)\n",
    "\n",
    "zzap_ohgiraffers.remove('tiger')\n",
    "\n",
    "print(ohgiraffers)\n",
    "print(zzap_ohgiraffers)"
   ]
  }
 ],
 "metadata": {
  "kernelspec": {
   "display_name": "pylecture_env",
   "language": "python",
   "name": "python3"
  },
  "language_info": {
   "codemirror_mode": {
    "name": "ipython",
    "version": 3
   },
   "file_extension": ".py",
   "mimetype": "text/x-python",
   "name": "python",
   "nbconvert_exporter": "python",
   "pygments_lexer": "ipython3",
   "version": "3.12.7"
  }
 },
 "nbformat": 4,
 "nbformat_minor": 2
}
