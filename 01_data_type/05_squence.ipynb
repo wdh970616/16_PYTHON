{
 "cells": [
  {
   "cell_type": "markdown",
   "metadata": {},
   "source": [
    "# 05. 시퀀스 자료형"
   ]
  },
  {
   "cell_type": "markdown",
   "metadata": {},
   "source": [
    "---\n",
    "## 05-01. 시퀀스 자료형의 개요\n",
    "### 05-01-01. 시퀀스 자료형이란?\n",
    "* 여러 값을 순서대로 저장하는 데이터 구조이다. 대표적인 시퀀스 자료형에는 리스트, 튜플, \n",
    "* 시퀀스 자료형에는 각 요소에 인덱스를 가지고있어 인덱스로 요소에 접근이 가능하다."
   ]
  },
  {
   "cell_type": "code",
   "execution_count": 1,
   "metadata": {},
   "outputs": [
    {
     "name": "stdout",
     "output_type": "stream",
     "text": [
      "<class 'str'>\n",
      "<class 'list'>\n",
      "<class 'tuple'>\n"
     ]
    }
   ],
   "source": [
    "# str\n",
    "# 문자열 값을 가지는 자료형\n",
    "name = 'ohgiraffers'\n",
    "print(type(name))\n",
    "\n",
    "# list\n",
    "# 여러 값을 담을 수 있는 가변형 자료형\n",
    "list = [0, 1, 2, 3]\n",
    "print(type(list))\n",
    "\n",
    "# tuple\n",
    "# 여러 값을 담을 수 있는 불변형 자료형\n",
    "tuple = (1, 2, 3)\n",
    "print(type(tuple))"
   ]
  },
  {
   "cell_type": "markdown",
   "metadata": {},
   "source": [
    "### 인덱싱"
   ]
  },
  {
   "cell_type": "code",
   "execution_count": 2,
   "metadata": {},
   "outputs": [
    {
     "name": "stdout",
     "output_type": "stream",
     "text": [
      "민\n",
      "초\n",
      "인천광역시\n",
      "광주광역시\n",
      "중국\n",
      "일본\n"
     ]
    }
   ],
   "source": [
    "# 문자열\n",
    "address = '대한민국 서울시 서초구'\n",
    "print(address[2])\n",
    "print(address[-2])\n",
    "\n",
    "# 리스트\n",
    "location = ['서울특별시', '부산광역시', '인천광역시', '광주광역시', '울산광역시']\n",
    "print(location[2])\n",
    "print(location[-2])\n",
    "\n",
    "# 튜플\n",
    "nation = ('대한민국', '미국', '중국', '일본', '프랑스')\n",
    "print(nation[2])\n",
    "print(nation[-2])"
   ]
  },
  {
   "cell_type": "markdown",
   "metadata": {},
   "source": [
    "### 05-01-03. 슬라이싱\n",
    "* 인덱스를 사용해 기존 시퀀스 자료형에서 원하는만큼 요소 추출이 가능하다."
   ]
  },
  {
   "cell_type": "code",
   "execution_count": 3,
   "metadata": {},
   "outputs": [
    {
     "name": "stdout",
     "output_type": "stream",
     "text": [
      "대한민국\n",
      "['인천광역시', '광주광역시']\n",
      "('대한민국', '미국', '중국')\n"
     ]
    }
   ],
   "source": [
    "# 문자열\n",
    "address = '대한민국 서울시 서초구'\n",
    "print(address[0:4])\n",
    "\n",
    "# 리스트\n",
    "location = ['서울특별시', '부산광역시', '인천광역시', '광주광역시', '울산광역시']\n",
    "print(location[2:4])\n",
    "\n",
    "# 튜플\n",
    "nation = ('대한민국', '미국', '중국', '일본', '프랑스')\n",
    "print(nation[0:3])"
   ]
  },
  {
   "cell_type": "code",
   "execution_count": 4,
   "metadata": {},
   "outputs": [
    {
     "name": "stdout",
     "output_type": "stream",
     "text": [
      "한서서\n",
      "구초서 시울서 국민한대\n",
      "['부산광역시']\n",
      "('미국', '일본')\n"
     ]
    }
   ],
   "source": [
    "# 문자열\n",
    "address = '대한민국 서울시 서초구'\n",
    "print(address[1:12:4]) # 인덱스 1부터 시작해서 인덱스 12전까지를 4칸씩 띄워서 슬라이싱\n",
    "print(address[::-1])\n",
    "\n",
    "# 리스트\n",
    "location = ['서울특별시', '부산광역시', '인천광역시', '광주광역시', '울산광역시']\n",
    "print(location[1:3:2])\n",
    "\n",
    "# 튜플\n",
    "nation = ('대한민국', '미국', '중국', '일본', '프랑스')\n",
    "print(nation[1:5:2])"
   ]
  },
  {
   "cell_type": "markdown",
   "metadata": {},
   "source": [
    "---\n",
    "## 05-02. 시퀀스 자료형의 연산 및 내장함수\n",
    "### 05-02-01. in\n",
    "* [값] in [시퀀스 자료형] 으로 사용하며, 우향의 시퀀스 자료형에 좌향의 값이 포함되어 있으면 True 반환\n",
    "* 문자열에 대한 in 연산은 우향의 문자열에 좌향의 문자열이 순서에 맞게 포함되면 True\n",
    "* 리스트와 튜플에 대한 in 연산은 좌향의 요소를 우향의 자료에 대한 '하나의 요소'로 보기 때문에 인덱싱 또는 슬라이싱한 형태로 데이터를 주면 안됨"
   ]
  },
  {
   "cell_type": "code",
   "execution_count": 14,
   "metadata": {},
   "outputs": [
    {
     "name": "stdout",
     "output_type": "stream",
     "text": [
      "True\n",
      "False\n",
      "True\n",
      "False\n",
      "True\n",
      "False\n"
     ]
    }
   ],
   "source": [
    "# 문자열\n",
    "address = '대한민국 서울시 서초구'\n",
    "print('대한민국' in address)\n",
    "print('국민한대' in address)\n",
    "\n",
    "# 리스트\n",
    "location = ['서울특별시', '부산광역시', '인천광역시', '광주광역시', '울산광역시']\n",
    "print('광주광역시' in location)\n",
    "print(['광주광역시', '울산광역시'] in location)\n",
    "\n",
    "# 튜플\n",
    "nation = ('대한민국', '미국', '중국', '일본', '프랑스')\n",
    "print('프랑스' in nation)\n",
    "print(('대한민국', '미국') in nation)"
   ]
  },
  {
   "cell_type": "markdown",
   "metadata": {},
   "source": [
    "### 05-02-02. len()\n",
    "* 인자로 전달한 시퀀스 자료형의 요소의 갯수(문자열의 길이, 리스트의 요소 갯수)를 반환한다."
   ]
  },
  {
   "cell_type": "code",
   "execution_count": 15,
   "metadata": {},
   "outputs": [
    {
     "name": "stdout",
     "output_type": "stream",
     "text": [
      "12\n",
      "5\n",
      "5\n"
     ]
    }
   ],
   "source": [
    "# 문자열\n",
    "address = '대한민국 서울시 서초구'\n",
    "print(len(address))\n",
    "\n",
    "# 리스트\n",
    "location = ['서울특별시', '부산광역시', '인천광역시', '광주광역시', '울산광역시']\n",
    "print(len(location))\n",
    "\n",
    "# 튜플\n",
    "nation = ('대한민국', '미국', '중국', '일본', '프랑스')\n",
    "print(len(nation))"
   ]
  }
 ],
 "metadata": {
  "kernelspec": {
   "display_name": "pylecture_env",
   "language": "python",
   "name": "python3"
  },
  "language_info": {
   "codemirror_mode": {
    "name": "ipython",
    "version": 3
   },
   "file_extension": ".py",
   "mimetype": "text/x-python",
   "name": "python",
   "nbconvert_exporter": "python",
   "pygments_lexer": "ipython3",
   "version": "3.12.7"
  }
 },
 "nbformat": 4,
 "nbformat_minor": 2
}
