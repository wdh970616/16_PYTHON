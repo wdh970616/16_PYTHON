{
 "cells": [
  {
   "cell_type": "markdown",
   "metadata": {},
   "source": [
    "# 07. 딕셔너리(Dictionaries)"
   ]
  },
  {
   "cell_type": "markdown",
   "metadata": {},
   "source": [
    "---\n",
    "## 07-01. 딕셔너리 개요\n",
    "### 07-01-01. 딕셔너리 표현식"
   ]
  },
  {
   "cell_type": "code",
   "execution_count": 1,
   "metadata": {},
   "outputs": [
    {
     "name": "stdout",
     "output_type": "stream",
     "text": [
      "<class 'dict'>\n",
      "bear\n",
      "ohgiraffers\n"
     ]
    }
   ],
   "source": [
    "teacher = {'name':'bear', 'team':'ohgiraffers'}\n",
    "\n",
    "print(type(teacher))\n",
    "\n",
    "print(teacher['name'])\n",
    "print(teacher['team'])"
   ]
  },
  {
   "cell_type": "markdown",
   "metadata": {},
   "source": [
    "### 07-01-02. 딕셔너리의 특징\n",
    "1. 키와 값의 쌍으로 이루어진 데이터\n",
    "* 사전에서 단어를 찾아 뜻을 확인하는것처럼 Ditionaries에서 키를 사용하여 값을 찾고 활용 가능하다."
   ]
  },
  {
   "cell_type": "code",
   "execution_count": 2,
   "metadata": {},
   "outputs": [
    {
     "name": "stdout",
     "output_type": "stream",
     "text": [
      "{'tiger': 'langChain', 'squirrel': 'JPA', 'bear': 'python', 'gorilla': 'spring'}\n",
      "python\n"
     ]
    }
   ],
   "source": [
    "ohgiraffers = {\n",
    "    'tiger': 'langChain',\n",
    "    'squirrel': 'JPA',\n",
    "    'bear': 'python',\n",
    "    'gorilla': 'spring'\n",
    "}\n",
    "\n",
    "print(ohgiraffers)\n",
    "print(ohgiraffers['bear'])"
   ]
  },
  {
   "cell_type": "markdown",
   "metadata": {},
   "source": [
    "2. 키는 고유해야하며 불변한 데이터 타입이어야한다.\n",
    "* 키는 유일하게 존재해야하므로 동일한 키로 여러 값을 저장 불가능하다.\n",
    "* 중복키로 값을 저장하면 기존값을 덮어쓴다.<br>\n",
    "=> 데이터 검색 및 관리의 효율성을 높여줌\n",
    "* tuple은 불변이므로 key로 사용할 수 있다."
   ]
  },
  {
   "cell_type": "code",
   "execution_count": 4,
   "metadata": {},
   "outputs": [
    {
     "name": "stdout",
     "output_type": "stream",
     "text": [
      "bear.ohgiraffers\n"
     ]
    }
   ],
   "source": [
    "valid_key_dic = {('name', 'team'): 'bear.ohgiraffers'}\n",
    "print(valid_key_dic[('name', 'team')])"
   ]
  },
  {
   "cell_type": "markdown",
   "metadata": {},
   "source": [
    "\n",
    "3. Dictionaries는 가변적인 구조이다.\n",
    "* 딕셔너리는 생성후 키-값 쌍을 추가, 수정, 삭제할 수 있다."
   ]
  },
  {
   "cell_type": "code",
   "execution_count": 8,
   "metadata": {},
   "outputs": [
    {
     "name": "stdout",
     "output_type": "stream",
     "text": [
      "python\n",
      "java\n"
     ]
    },
    {
     "ename": "NameError",
     "evalue": "name 'ohgiraffers' is not defined",
     "output_type": "error",
     "traceback": [
      "\u001b[1;31m---------------------------------------------------------------------------\u001b[0m",
      "\u001b[1;31mNameError\u001b[0m                                 Traceback (most recent call last)",
      "Cell \u001b[1;32mIn[8], line 15\u001b[0m\n\u001b[0;32m     13\u001b[0m \u001b[38;5;66;03m# del\u001b[39;00m\n\u001b[0;32m     14\u001b[0m \u001b[38;5;28;01mdel\u001b[39;00m ohgiraffers\n\u001b[1;32m---> 15\u001b[0m \u001b[38;5;28mprint\u001b[39m(\u001b[43mohgiraffers\u001b[49m)\n",
      "\u001b[1;31mNameError\u001b[0m: name 'ohgiraffers' is not defined"
     ]
    }
   ],
   "source": [
    "ohgiraffers = {\n",
    "    'tiger': 'langChain',\n",
    "    'squirrel': 'JPA',\n",
    "    'bear': 'python',\n",
    "    'gorilla': 'spring'\n",
    "}\n",
    "\n",
    "print(ohgiraffers['bear'])\n",
    "\n",
    "ohgiraffers['bear'] = 'java'\n",
    "print(ohgiraffers['bear'])\n",
    "\n",
    "# del 키워드로 삭제도 가능\n",
    "del ohgiraffers\n",
    "print(ohgiraffers)"
   ]
  },
  {
   "cell_type": "markdown",
   "metadata": {},
   "source": [
    "---\n",
    "## 07-02. 딕셔너리 메소드\n",
    "1. get()\n",
    "* 키를 사용하여 값을 가져오는 메소드\n",
    "* 키가 존재하지 않으면 기본값을 반환하거나 None을 반환한다."
   ]
  },
  {
   "cell_type": "code",
   "execution_count": 12,
   "metadata": {},
   "outputs": [
    {
     "name": "stdout",
     "output_type": "stream",
     "text": [
      "python\n",
      "python\n",
      "None\n",
      "default_value\n",
      "dict_keys(['tiger', 'squirrel', 'bear', 'gorilla'])\n",
      "dict_values(['langChain', 'JPA', 'python', 'spring'])\n",
      "dict_items([('tiger', 'langChain'), ('squirrel', 'JPA'), ('bear', 'python'), ('gorilla', 'spring')])\n"
     ]
    }
   ],
   "source": [
    "ohgiraffers = {\n",
    "    'tiger': 'langChain',\n",
    "    'squirrel': 'JPA',\n",
    "    'bear': 'python',\n",
    "    'gorilla': 'spring'\n",
    "}\n",
    "\n",
    "print(ohgiraffers['bear'])\n",
    "print(ohgiraffers.get('bear'))\n",
    "print(ohgiraffers.get('bear2')) # 없으면 None\n",
    "print(ohgiraffers.get('bear2', 'default_value')) # 없으면 default_value\n",
    "\n",
    "# keys()\n",
    "# 딕셔너리의 모든 키를 반환하는 메소드\n",
    "print(ohgiraffers.keys())\n",
    "\n",
    "# valuse()\n",
    "# 딕셔너리의 모든 값을 반환하는 메소드\n",
    "print(ohgiraffers.values())\n",
    "\n",
    "# items()\n",
    "# 딕셔너리의 모든 키와 값의 쌍을 반환하는 메소드\n",
    "print(ohgiraffers.items())"
   ]
  }
 ],
 "metadata": {
  "kernelspec": {
   "display_name": "pylecture_env",
   "language": "python",
   "name": "python3"
  },
  "language_info": {
   "codemirror_mode": {
    "name": "ipython",
    "version": 3
   },
   "file_extension": ".py",
   "mimetype": "text/x-python",
   "name": "python",
   "nbconvert_exporter": "python",
   "pygments_lexer": "ipython3",
   "version": "3.12.7"
  }
 },
 "nbformat": 4,
 "nbformat_minor": 2
}
