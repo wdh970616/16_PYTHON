{
 "cells": [
  {
   "cell_type": "code",
   "execution_count": 8,
   "metadata": {},
   "outputs": [
    {
     "name": "stdout",
     "output_type": "stream",
     "text": [
      "잘못된 점수를 입력하셨습니다.\n"
     ]
    }
   ],
   "source": [
    "# 시험 점수를 입력받아 학점을 출력하는 프로그램을 작성하세요.\n",
    "# 90점 이상: A\n",
    "# 80점 이상 90점 미만: B\n",
    "# 70점 이상 80점 미만: C\n",
    "# 60점 이상 70점 미만: D\n",
    "# 60점 미만: F\n",
    "\n",
    "점수 = int(input(\"시험 점수를 입력하세요: \"))\n",
    "\n",
    "if 점수 < 0:\n",
    "    print('잘못된 점수를 입력하셨습니다.')\n",
    "elif 점수 < 60:\n",
    "    print(f'입력하신 점수는 {점수}점이며, 학점은 F 입니다.')\n",
    "elif 점수 < 70:\n",
    "    print(f'입력하신 점수는 {점수}점이며, 학점은 D 입니다.')\n",
    "elif 점수 < 80:\n",
    "    print(f'입력하신 점수는 {점수}점이며, 학점은 C 입니다.')\n",
    "elif 점수 < 90:\n",
    "    print(f'입력하신 점수는 {점수}점이며, 학점은 B 입니다.')\n",
    "elif 점수 <= 100:\n",
    "    print(f'입력하신 점수는 {점수}점이며, 학점은 A 입니다.')\n",
    "else:\n",
    "    print('잘못된 점수를 입력하셨습니다.')"
   ]
  },
  {
   "cell_type": "code",
   "execution_count": 21,
   "metadata": {},
   "outputs": [
    {
     "name": "stdout",
     "output_type": "stream",
     "text": [
      "월요일 싫어\n"
     ]
    }
   ],
   "source": [
    "# 1부터 7까지의 숫자를 입력받아 해당하는 요일을 출력하는 프로그램을 작성하세요.\n",
    "# 1: 월요일, 2: 화요일, ..., 7: 일요일\n",
    "# match-case 문을 사용하세요.\n",
    "\n",
    "숫자 = int(input(\"1부터 7까지의 숫자를 입력하세요: \"))\n",
    "\n",
    "match 숫자:\n",
    "    case 1:\n",
    "        print('월요일 싫어')\n",
    "    case 2:\n",
    "        print('왜 아직 화요일?')\n",
    "    case 3:\n",
    "        print('왜 아직도 수요일?')\n",
    "    case 4:\n",
    "        print('아직도 목요일?...')\n",
    "    case 5:\n",
    "        print('드디어 금요일!')\n",
    "    case 6:\n",
    "        print('토요일 신난다!!!!!!!')\n",
    "    case 7:\n",
    "        print('일요일은 너무 빨리 지나가...')\n",
    "    case _:\n",
    "        print('잘못 입력하셨습니다. 1부터 7 사이의 숫자를 입력하세요!')"
   ]
  },
  {
   "cell_type": "code",
   "execution_count": 32,
   "metadata": {},
   "outputs": [
    {
     "name": "stdout",
     "output_type": "stream",
     "text": [
      "로그인에 성공하였습니다.\n"
     ]
    }
   ],
   "source": [
    "# 미리 설정된 아이디와 비밀번호가 있다고 가정합니다.\n",
    "# 사용자로부터 아이디와 비밀번호를 입력받아 로그인 성공 여부를 출력하는 프로그램을 작성하세요.\n",
    "\n",
    "설정된_아이디 = \"python\"\n",
    "설정된_비밀번호 = \"1234\"\n",
    "\n",
    "입력_아이디 = input(\"아이디를 입력하세요\")\n",
    "입력_비밀번호 = input(\"비밀번호를 입력하세요\")\n",
    "\n",
    "if 입력_아이디 == 설정된_아이디 and 입력_비밀번호 == 설정된_비밀번호:\n",
    "    print('로그인에 성공하였습니다.')\n",
    "elif 입력_아이디 != 설정된_아이디:\n",
    "    print('로그인을 실패하였습니다. 아이디를 다시 확인해주세요')\n",
    "else:\n",
    "    print('로그인을 실패하였습니다. 비밀번호를 다시 확인해주세요')"
   ]
  }
 ],
 "metadata": {
  "kernelspec": {
   "display_name": "pylecture_env",
   "language": "python",
   "name": "python3"
  },
  "language_info": {
   "codemirror_mode": {
    "name": "ipython",
    "version": 3
   },
   "file_extension": ".py",
   "mimetype": "text/x-python",
   "name": "python",
   "nbconvert_exporter": "python",
   "pygments_lexer": "ipython3",
   "version": "3.12.7"
  }
 },
 "nbformat": 4,
 "nbformat_minor": 2
}
