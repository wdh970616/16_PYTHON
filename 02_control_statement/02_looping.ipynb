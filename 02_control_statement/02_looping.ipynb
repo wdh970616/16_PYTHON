{
 "cells": [
  {
   "cell_type": "markdown",
   "metadata": {},
   "source": [
    "# 02. 반복문"
   ]
  },
  {
   "cell_type": "markdown",
   "metadata": {},
   "source": [
    "---\n",
    "## 02-01. 반복문 개요\n",
    "### 02-01-01. 반복문이란?\n",
    "* 중복된 코드를 최소화하여 읽기 쉽고, 유지보수가 용이한 코드를 작성하기 위해 일정범위 또는 조건에 부합하는 경우 어떤 코드를 반복 수행하게 하는 구문"
   ]
  },
  {
   "cell_type": "markdown",
   "metadata": {},
   "source": [
    "---\n",
    "## 02-02. 반복문 for\n",
    "### 02-02-01. for-in\n",
    "* 리스트, 튜플, 문자열 등의 각  요소를 순차적으로 접근해 반복할 수 있다."
   ]
  },
  {
   "cell_type": "code",
   "execution_count": 2,
   "metadata": {},
   "outputs": [
    {
     "name": "stdout",
     "output_type": "stream",
     "text": [
      "pig 선생님\n",
      "bear 선생님\n",
      "gorilla 선생님\n",
      "squirrel 선생님\n"
     ]
    }
   ],
   "source": [
    "# 리스트\n",
    "ohgiraffers = ['pig', 'bear', 'gorilla', 'squirrel']\n",
    "\n",
    "for teacher in ohgiraffers:\n",
    "    print(teacher + ' 선생님')"
   ]
  },
  {
   "cell_type": "code",
   "execution_count": 3,
   "metadata": {},
   "outputs": [
    {
     "name": "stdout",
     "output_type": "stream",
     "text": [
      "o\n",
      "h\n",
      "g\n",
      "i\n",
      "r\n",
      "a\n",
      "f\n",
      "f\n",
      "e\n",
      "r\n",
      "s\n"
     ]
    }
   ],
   "source": [
    "# 문자열\n",
    "for word in 'ohgiraffers':\n",
    "    print(word)"
   ]
  },
  {
   "cell_type": "code",
   "execution_count": 8,
   "metadata": {},
   "outputs": [
    {
     "name": "stdout",
     "output_type": "stream",
     "text": [
      "bear : 곰\n",
      "tiger : 호랑이\n",
      "monkey : 원숭이\n"
     ]
    }
   ],
   "source": [
    "# 딕셔너리\n",
    "# 딕셔너리는 for문을 통해 반복하면 기본적으로 key값만 가지고 온다.\n",
    "for animal, 동물 in {'bear': '곰', 'tiger': '호랑이', 'monkey': '원숭이'}.items():\n",
    "    print(f'{animal} : {동물}')"
   ]
  },
  {
   "cell_type": "code",
   "execution_count": 10,
   "metadata": {},
   "outputs": [
    {
     "name": "stdout",
     "output_type": "stream",
     "text": [
      "['ak', 'bk', 'ck', 'dk', 'ek']\n"
     ]
    }
   ],
   "source": [
    "# for 키워드 활용\n",
    "\n",
    "word = 'abcde'\n",
    "\n",
    "# 'ak', 'bk', 'ck', 'dk', 'ek'\n",
    "test = [val + 'k' for val in word]\n",
    "print(test)"
   ]
  },
  {
   "cell_type": "markdown",
   "metadata": {},
   "source": [
    "### 02-02-02. range()\n",
    "* range는 일련의 숫자를 반복해야하는 경우 사용하는 함수, 숫자 배열을 만들어서 for-in문에 사용하는 것과 같다."
   ]
  },
  {
   "cell_type": "code",
   "execution_count": null,
   "metadata": {},
   "outputs": [],
   "source": [
    "for 변수 in range(반복횟수):\n",
    "    (실행구문) # 반드시 들여쓰기!!"
   ]
  },
  {
   "cell_type": "code",
   "execution_count": 12,
   "metadata": {},
   "outputs": [
    {
     "name": "stdout",
     "output_type": "stream",
     "text": [
      "반복 1번째 : i의 값은 0\n",
      "반복 2번째 : i의 값은 1\n",
      "반복 3번째 : i의 값은 2\n",
      "반복 4번째 : i의 값은 3\n",
      "반복 5번째 : i의 값은 4\n"
     ]
    }
   ],
   "source": [
    "# 인자가 1개일 때의 예시\n",
    "# 파라미터로 숫자 하나만 전달하면 변수가 0부터 1씩 증가하며, 파라미터로 준 길이만큼 반복한다.\n",
    "for i in range(5):\n",
    "    print(f'반복 {i+1}번째 : i의 값은 {i}')"
   ]
  },
  {
   "cell_type": "code",
   "execution_count": 14,
   "metadata": {},
   "outputs": [
    {
     "name": "stdout",
     "output_type": "stream",
     "text": [
      "반복 8번째 : i의 값은 7\n",
      "반복 9번째 : i의 값은 8\n",
      "반복 10번째 : i의 값은 9\n",
      "반복 11번째 : i의 값은 10\n",
      "반복 12번째 : i의 값은 11\n",
      "반복 13번째 : i의 값은 12\n",
      "반복 14번째 : i의 값은 13\n"
     ]
    }
   ],
   "source": [
    "# 인자가 2개일 때의 예시\n",
    "# 생성할 숫자 배열의 시작값과 끝값을 지정할 수 있다.\n",
    "for i in range(7, 14):\n",
    "    print(f'반복 {i + 1}번째 : i의 값은 {i}')"
   ]
  },
  {
   "cell_type": "code",
   "execution_count": 16,
   "metadata": {},
   "outputs": [
    {
     "name": "stdout",
     "output_type": "stream",
     "text": [
      "반복 57번째 : i의 값은 56\n",
      "반복 60번째 : i의 값은 59\n",
      "반복 63번째 : i의 값은 62\n",
      "반복 66번째 : i의 값은 65\n",
      "반복 69번째 : i의 값은 68\n",
      "반복 72번째 : i의 값은 71\n",
      "반복 75번째 : i의 값은 74\n",
      "반복 78번째 : i의 값은 77\n"
     ]
    }
   ],
   "source": [
    "# 인자가 3개일 때의 예시\n",
    "# 생성할 숫자 배열의 시작값, 끝값, 증감크기를 지정할 수 있다.\n",
    "for i in range(56, 78, 3):\n",
    "    print(f'반복 {i + 1}번째 : i의 값은 {i}')"
   ]
  },
  {
   "cell_type": "code",
   "execution_count": 19,
   "metadata": {},
   "outputs": [
    {
     "name": "stdout",
     "output_type": "stream",
     "text": [
      "i의 값은 5\n",
      "i의 값은 4\n",
      "i의 값은 3\n",
      "i의 값은 2\n"
     ]
    }
   ],
   "source": [
    "for i in range(5, 1, -1):\n",
    "    print(f'i의 값은 {i}')"
   ]
  },
  {
   "cell_type": "markdown",
   "metadata": {},
   "source": [
    "### range() 함수의 특징\n",
    "1. 인덱스의 길이만큼 반복하려면 range()와 len()을 같이 사용가능"
   ]
  },
  {
   "cell_type": "code",
   "execution_count": 20,
   "metadata": {},
   "outputs": [
    {
     "name": "stdout",
     "output_type": "stream",
     "text": [
      "0 i\n",
      "1 am\n",
      "2 a\n",
      "3 bear\n"
     ]
    }
   ],
   "source": [
    "introduce = ['i', 'am', 'a', 'bear']\n",
    "\n",
    "for i in range(len(introduce)):\n",
    "    print(i, introduce[i])"
   ]
  },
  {
   "cell_type": "markdown",
   "metadata": {},
   "source": [
    "2. range()를 단독 사용하면 그냥 텍스트로 출력됨"
   ]
  },
  {
   "cell_type": "code",
   "execution_count": 21,
   "metadata": {},
   "outputs": [
    {
     "data": {
      "text/plain": [
       "range(0, 10)"
      ]
     },
     "execution_count": 21,
     "metadata": {},
     "output_type": "execute_result"
    }
   ],
   "source": [
    "range(10)"
   ]
  },
  {
   "cell_type": "markdown",
   "metadata": {},
   "source": [
    "3. 연속적인 항목을 얻는 함수나 구성의 대상으로 많이 사용된다."
   ]
  },
  {
   "cell_type": "code",
   "execution_count": 25,
   "metadata": {},
   "outputs": [
    {
     "data": {
      "text/plain": [
       "6"
      ]
     },
     "execution_count": 25,
     "metadata": {},
     "output_type": "execute_result"
    }
   ],
   "source": [
    "sum(range(4))"
   ]
  },
  {
   "cell_type": "markdown",
   "metadata": {},
   "source": [
    "---\n",
    "## 02-03. 반복문 while\n",
    "### 02-03-01. while\n",
    "* 조건이 true인 동안 실행구문을 계속해서 반복한다."
   ]
  },
  {
   "cell_type": "code",
   "execution_count": 24,
   "metadata": {},
   "outputs": [
    {
     "name": "stdout",
     "output_type": "stream",
     "text": [
      "현재 i의 값 : 1\n",
      "현재 i의 값 : 2\n",
      "현재 i의 값 : 3\n",
      "현재 i의 값 : 4\n",
      "현재 i의 값 : 5\n",
      "현재 i의 값 : 6\n",
      "현재 i의 값 : 7\n",
      "현재 i의 값 : 8\n",
      "현재 i의 값 : 9\n",
      "현재 i의 값 : 10\n"
     ]
    }
   ],
   "source": [
    "# 1부터 10까지 1씩 증가시켜서 i값을 출력하는 반복문\n",
    "i = 1\n",
    "\n",
    "while i <= 10:\n",
    "    print(f'현재 i의 값 : {i}')\n",
    "    i += 1"
   ]
  }
 ],
 "metadata": {
  "kernelspec": {
   "display_name": "pylecture_env",
   "language": "python",
   "name": "python3"
  },
  "language_info": {
   "codemirror_mode": {
    "name": "ipython",
    "version": 3
   },
   "file_extension": ".py",
   "mimetype": "text/x-python",
   "name": "python",
   "nbconvert_exporter": "python",
   "pygments_lexer": "ipython3",
   "version": "3.12.7"
  }
 },
 "nbformat": 4,
 "nbformat_minor": 2
}
