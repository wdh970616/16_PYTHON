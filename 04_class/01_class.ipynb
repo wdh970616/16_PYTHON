{
 "cells": [
  {
   "cell_type": "markdown",
   "metadata": {
    "vscode": {
     "languageId": "plaintext"
    }
   },
   "source": [
    "# 01. 클래스"
   ]
  },
  {
   "cell_type": "markdown",
   "metadata": {},
   "source": [
    "\n",
    "---\n",
    "## 01-01. 클래스 개요\n",
    "### 01-01-01. 클래스란?\n",
    "* 객체지향(OOP)를 지원하는 중요한 개념\n",
    "* 추상화된 데이터와 함수(메소드)를 하나의 단위로 묶어 만들 수 있다.\n",
    "* 클래스를 사용해 인스턴스를 생성하여 객체 단위로 사용할 수 있다.\n",
    "### 01-01-02. 클래스 표현식\n",
    "* class 키워드와 콜론을 이용해 클래스를 정의한다.\n",
    "* 클래스 정의시에도 **'반드시** 클래스의 내용이 될 블록을 들여쓰기한다."
   ]
  },
  {
   "cell_type": "code",
   "execution_count": null,
   "metadata": {},
   "outputs": [],
   "source": [
    "class Person:\n",
    "    national : 'korea'\n",
    "    \n",
    "    def greeting(self):\n",
    "        return 'Hello. This is Python'"
   ]
  },
  {
   "cell_type": "markdown",
   "metadata": {},
   "source": [
    "---\n",
    "## 01-02. 클래스의 구성 요소\n",
    "### 01-02-01. 클래스의 속성\n",
    "* 클래스 자체에 속하는 변수로 모든 인스턴스가 공유한다."
   ]
  },
  {
   "cell_type": "code",
   "execution_count": 1,
   "metadata": {},
   "outputs": [
    {
     "name": "stdout",
     "output_type": "stream",
     "text": [
      "korea\n",
      "korean\n"
     ]
    }
   ],
   "source": [
    "class Person:\n",
    "    national = 'korea'\n",
    "    language = 'korean'\n",
    "\n",
    "print(Person.national)\n",
    "print(Person.language)"
   ]
  },
  {
   "cell_type": "markdown",
   "metadata": {},
   "source": [
    "### 01-02-03. 메소드(method)\n",
    "* 클래스 내부에 정의된 함수로 인스턴스의 데이터를 조작하거나 동작을 정의한다.\n",
    "* 메소드 호출 시 객체의 주소값이 첫번째 인자로 넘어오기 때문에 객체를 통한 접근시 호출되는 메소드의 첫번째 인자는 항상 self여야한다."
   ]
  },
  {
   "cell_type": "code",
   "execution_count": null,
   "metadata": {},
   "outputs": [],
   "source": [
    "class Person:\n",
    "    national = 'korea'\n",
    "    language = 'korean'\n",
    "    \n",
    "    def greeting(self):\n",
    "        return '안녕하세요'\n",
    "    \n",
    "    def information(self):\n",
    "        return f\"I'm from {self.national} and I use {self.language}\" \n",
    "    \n",
    "    def favorite(self, color):\n",
    "        return f'i love {color}'"
   ]
  },
  {
   "cell_type": "code",
   "execution_count": 4,
   "metadata": {},
   "outputs": [
    {
     "ename": "TypeError",
     "evalue": "Person.__init__() missing 2 required positional arguments: 'name' and 'age'",
     "output_type": "error",
     "traceback": [
      "\u001b[1;31m---------------------------------------------------------------------------\u001b[0m",
      "\u001b[1;31mTypeError\u001b[0m                                 Traceback (most recent call last)",
      "Cell \u001b[1;32mIn[4], line 2\u001b[0m\n\u001b[0;32m      1\u001b[0m \u001b[38;5;66;03m# 객체 생성\u001b[39;00m\n\u001b[1;32m----> 2\u001b[0m person_instance1 \u001b[38;5;241m=\u001b[39m \u001b[43mPerson\u001b[49m\u001b[43m(\u001b[49m\u001b[43m)\u001b[49m\n\u001b[0;32m      3\u001b[0m person_instance2 \u001b[38;5;241m=\u001b[39m Person()\n\u001b[0;32m      5\u001b[0m \u001b[38;5;28mprint\u001b[39m(person_instance1\u001b[38;5;241m.\u001b[39mgreeting())\n",
      "\u001b[1;31mTypeError\u001b[0m: Person.__init__() missing 2 required positional arguments: 'name' and 'age'"
     ]
    }
   ],
   "source": [
    "# 객체 생성\n",
    "person_instance1 = Person()\n",
    "person_instance2 = Person()\n",
    "\n",
    "print(person_instance1.greeting())\n",
    "print(person_instance1.information())\n",
    "print(person_instance1.favorite('blue'))"
   ]
  },
  {
   "cell_type": "markdown",
   "metadata": {},
   "source": [
    "### 01-02-03. 생성자\n",
    "* init 메소드는 객체가 생성될 때 자동으로 호출되는 메소드(생성자)이다.\n",
    "* 매개변수를 전달해 인스턴스(객체)의 속성을 초기화 할 수 있다."
   ]
  },
  {
   "cell_type": "code",
   "execution_count": 10,
   "metadata": {},
   "outputs": [],
   "source": [
    "class Person:\n",
    "    national = 'korea'\n",
    "    language = 'korean'\n",
    "    \n",
    "    def __init__(self, name, age):\n",
    "        self.name = name\n",
    "        self.age = age\n",
    "    \n",
    "    def greeting(self):\n",
    "        return 'Nice to meet you.'\n",
    "    \n",
    "    def information(self):\n",
    "        return f\"I'm from {self.national} and I use {self.language}. My name is {self.name}. My age is {self.age}.\" \n",
    "    \n",
    "    def favorite(self, color):\n",
    "        return f'I love {color}.'"
   ]
  },
  {
   "cell_type": "code",
   "execution_count": 12,
   "metadata": {},
   "outputs": [
    {
     "name": "stdout",
     "output_type": "stream",
     "text": [
      "Nice to meet you.\n",
      "I'm from korea and I use korean. My name is Bear. My age is 20.\n",
      "I love blue.\n",
      "Nice to meet you.\n",
      "I'm from korea and I use korean. My name is Pig. My age is 25.\n",
      "I love blue.\n"
     ]
    }
   ],
   "source": [
    "# 객체 생성\n",
    "person_instance1 = Person('Bear', 20)\n",
    "person_instance2 = Person('Pig', 25)\n",
    "\n",
    "print(person_instance1.greeting())\n",
    "print(person_instance1.information())\n",
    "print(person_instance1.favorite('blue'))\n",
    "\n",
    "print(person_instance2.greeting())\n",
    "print(person_instance2.information())\n",
    "print(person_instance2.favorite('blue'))"
   ]
  },
  {
   "cell_type": "markdown",
   "metadata": {},
   "source": [
    "---\n",
    "## 01-03. 클래스 심화\n",
    "### 01-03-01. 네임스페이스와 스코프\n",
    "* 네임 스페이스\n",
    "    * 변수 이름과 객체를 매핑하는 시스템\n",
    "    * 특정 이름이 특정 객체를 가리키도록 하는 역할\n",
    "    * 각 네임스페이스별로 특정 스코프에서 유효하다.\n",
    "1. 지역 네임스페이스 : 현재 함수나 메소드 내의 네임스페이스\n",
    "2. 인스턴스 네임스페이스 : 인스턴스(객체) 내의 네임스페이스\n",
    "3. 클래스 네임스페이스 : 클래스 객체의 네임스페이스\n",
    "4. 전역 네임스페이스 : 모듈 내의 전역 네임스페이스\n",
    "5. 내장 네임스페이스 : 파이썬 내장 함수와 예외를  포함하는 네임스페이스\n",
    "* 네임스테이스 검색 순서는 가장 가까운(가장 작은) 스코프 순서로 로컬 -> 전역 -> 빌트인 순이다."
   ]
  },
  {
   "cell_type": "code",
   "execution_count": 16,
   "metadata": {},
   "outputs": [
    {
     "name": "stdout",
     "output_type": "stream",
     "text": [
      "전역 네임스페이스에서 호출 : global variable\n",
      "외부함수 네임스페이스에서 호출 : global variable\n",
      "내부함수 네임스페이스에서 호출 : inner variale\n",
      "인스턴스 : instance variable\n",
      "local variable\n"
     ]
    }
   ],
   "source": [
    "# 전역 네임스페이스\n",
    "variable = 'global variable'\n",
    "print(f'전역 네임스페이스에서 호출 : {variable}')\n",
    "\n",
    "def outer_function():\n",
    "    # 지역(외부함수) 네임스페이스\n",
    "    print(f'외부함수 네임스페이스에서 호출 : {variable}')\n",
    "    \n",
    "    def inner_function():\n",
    "        # 지역(내부함수) 네임스페이스\n",
    "        variable = 'inner variale'\n",
    "        print(f'내부함수 네임스페이스에서 호출 : {variable}')\n",
    "    inner_function()\n",
    "    \n",
    "outer_function()\n",
    "\n",
    "class TestClass:\n",
    "    # 클래스 네임스페이스\n",
    "    variable = 'class variable'\n",
    "    \n",
    "    def __init__(self, value):\n",
    "        # 인스턴스 네임스페이스\n",
    "        self.variable = value\n",
    "        \n",
    "    def class_function(self):\n",
    "        variable = 'local variable'\n",
    "        print(f'{variable}')\n",
    "        \n",
    "obj = TestClass('instance variable')\n",
    "\n",
    "print(f'인스턴스 : {obj.variable}')\n",
    "\n",
    "obj.class_function()"
   ]
  },
  {
   "cell_type": "markdown",
   "metadata": {},
   "source": [
    "### 01-03-02. global, nonlocal\n",
    "* global\n",
    "    * 함수 내부에서 전역 변수를 참조하거나 수정할 때 사용, 함수 내부에서 전역변수에 접근 가능하다."
   ]
  },
  {
   "cell_type": "code",
   "execution_count": 18,
   "metadata": {},
   "outputs": [
    {
     "name": "stdout",
     "output_type": "stream",
     "text": [
      "global varable\n",
      "global modified in function\n"
     ]
    }
   ],
   "source": [
    "g_variable = 'global varable'\n",
    "\n",
    "def modify_global():\n",
    "    global g_variable\n",
    "    g_variable = 'global modified in function'\n",
    "    \n",
    "print(g_variable)\n",
    "\n",
    "modify_global()\n",
    "\n",
    "print(g_variable)"
   ]
  },
  {
   "cell_type": "markdown",
   "metadata": {},
   "source": [
    "* nonlocal\n",
    "    * 중첩 함수에서 바깥 함수의 변수(로컬변수를 포함)를 참조하거나 수정할 때 사용한다.\n",
    "    * 중첩 함수에서 한 단계 바깥의 함수 변수에 접근이 가능하다."
   ]
  },
  {
   "cell_type": "code",
   "execution_count": 19,
   "metadata": {},
   "outputs": [
    {
     "name": "stdout",
     "output_type": "stream",
     "text": [
      "outer_function\n",
      "outer modified in inner function\n"
     ]
    }
   ],
   "source": [
    "def outer_function():\n",
    "    variable = 'outer_function'\n",
    "    \n",
    "    def inner_function():\n",
    "        nonlocal variable\n",
    "        variable = 'outer modified in inner function'\n",
    "        \n",
    "    print(variable)\n",
    "    inner_function()\n",
    "    \n",
    "    print(variable)\n",
    "\n",
    "outer_function()"
   ]
  },
  {
   "cell_type": "markdown",
   "metadata": {},
   "source": [
    "### 01-03-03. Private Variable\n",
    "* 객체 내부에서만 접근할 수 있는 private은 파이썬에 존재하지 않는다.<br>\n",
    "=> 단, 밑줄로 시작하는 네임스페이스를 가진 속성은 private하게 취급된다 라는 규약을 통해 private 속성을 설정할 수 있다."
   ]
  },
  {
   "cell_type": "code",
   "execution_count": 3,
   "metadata": {},
   "outputs": [
    {
     "name": "stdout",
     "output_type": "stream",
     "text": [
      "산골짜기다람쥐\n",
      "전사\n",
      "법사\n",
      "잘못된 캐릭터 타입을 선택하셨습니다.\n"
     ]
    }
   ],
   "source": [
    "class Character:\n",
    "    def __init__(self, nickname, type):\n",
    "        self.nickname = nickname\n",
    "        self.__type = type\n",
    "        \n",
    "    def get_type(self):\n",
    "        return self.__type\n",
    "    \n",
    "    def set_type(self, type):\n",
    "        Character_types = ['전사', '법사', '힐러']\n",
    "        \n",
    "        for given_type in Character_types:\n",
    "            if(type == given_type):\n",
    "                self.__type = type\n",
    "                return\n",
    "        \n",
    "        # raise 파이썬에서 예외를 발생시키는데에 사용되는 키워드\n",
    "        raise ValueError(\"잘못된 캐릭터 타입을 선택하셨습니다.\")\n",
    "        \n",
    "my_character = Character('산골짜기다람쥐', '전사')\n",
    "\n",
    "print(my_character.nickname)\n",
    "print(my_character.get_type()) # Private Attribute에 접근하는 public method 사용\n",
    "\n",
    "my_character.set_type(\"법사\")\n",
    "print(my_character.get_type())\n",
    "\n",
    "try:\n",
    "    my_character.set_type('흑마법사')\n",
    "except ValueError as e:\n",
    "    print(e)"
   ]
  }
 ],
 "metadata": {
  "kernelspec": {
   "display_name": "pylecture_env",
   "language": "python",
   "name": "python3"
  },
  "language_info": {
   "codemirror_mode": {
    "name": "ipython",
    "version": 3
   },
   "file_extension": ".py",
   "mimetype": "text/x-python",
   "name": "python",
   "nbconvert_exporter": "python",
   "pygments_lexer": "ipython3",
   "version": "3.12.7"
  }
 },
 "nbformat": 4,
 "nbformat_minor": 2
}
