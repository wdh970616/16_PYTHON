{
 "cells": [
  {
   "cell_type": "markdown",
   "metadata": {
    "vscode": {
     "languageId": "plaintext"
    }
   },
   "source": [
    "# 01. 클래스"
   ]
  },
  {
   "cell_type": "markdown",
   "metadata": {},
   "source": [
    "\n",
    "---\n",
    "## 01-01. 클래스 개요\n",
    "### 01-01-01. 클래스란?\n",
    "* 객체지향(OOP)를 지원하는 중요한 개념\n",
    "* 추상화된 데이터와 함수(메소드)를 하나의 단위로 묶어 만들 수 있다.\n",
    "* 클래스를 사용해 인스턴스를 생성하여 객체 단위로 사용할 수 있다.\n",
    "### 01-01-02. 클래스 표현식\n",
    "* class 키워드와 콜론을 이용해 클래스를 정의한다.\n",
    "* 클래스 정의시에도 **'반드시** 클래스의 내용이 될 블록을 들여쓰기한다."
   ]
  },
  {
   "cell_type": "code",
   "execution_count": null,
   "metadata": {},
   "outputs": [],
   "source": [
    "class Person:\n",
    "    national : 'korea'\n",
    "    \n",
    "    def greeting(self):\n",
    "        return 'Hello. This is Python'"
   ]
  },
  {
   "cell_type": "markdown",
   "metadata": {},
   "source": [
    "---\n",
    "## 01-02. 클래스의 구성 요소\n",
    "### 01-02-01. 클래스의 속성\n",
    "* 클래스 자체에 속하는 변수로 모든 인스턴스가 공유한다."
   ]
  },
  {
   "cell_type": "code",
   "execution_count": 1,
   "metadata": {},
   "outputs": [
    {
     "name": "stdout",
     "output_type": "stream",
     "text": [
      "korea\n",
      "korean\n"
     ]
    }
   ],
   "source": [
    "class Person:\n",
    "    national = 'korea'\n",
    "    language = 'korean'\n",
    "\n",
    "print(Person.national)\n",
    "print(Person.language)"
   ]
  },
  {
   "cell_type": "markdown",
   "metadata": {},
   "source": [
    "### 01-02-03. 메소드(method)\n",
    "* 클래스 내부에 정의된 함수로 인스턴스의 데이터를 조작하거나 동작을 정의한다.\n",
    "* 메소드 호출 시 객체의 주소값이 첫번째 인자로 넘어오기 때문에 객체를 통한 접근시 호출되는 메소드의 첫번째 인자는 항상 self여야한다."
   ]
  },
  {
   "cell_type": "code",
   "execution_count": null,
   "metadata": {},
   "outputs": [],
   "source": [
    "class Person:\n",
    "    national = 'korea'\n",
    "    language = 'korean'\n",
    "    \n",
    "    def greeting(self):\n",
    "        return '안녕하세요'\n",
    "    \n",
    "    def information(self):\n",
    "        return f\"I'm from {self.national} and I use {self.language}\" \n",
    "    \n",
    "    def favorite(self, color):\n",
    "        return f'i love {color}'"
   ]
  },
  {
   "cell_type": "code",
   "execution_count": 4,
   "metadata": {},
   "outputs": [
    {
     "ename": "TypeError",
     "evalue": "Person.__init__() missing 2 required positional arguments: 'name' and 'age'",
     "output_type": "error",
     "traceback": [
      "\u001b[1;31m---------------------------------------------------------------------------\u001b[0m",
      "\u001b[1;31mTypeError\u001b[0m                                 Traceback (most recent call last)",
      "Cell \u001b[1;32mIn[4], line 2\u001b[0m\n\u001b[0;32m      1\u001b[0m \u001b[38;5;66;03m# 객체 생성\u001b[39;00m\n\u001b[1;32m----> 2\u001b[0m person_instance1 \u001b[38;5;241m=\u001b[39m \u001b[43mPerson\u001b[49m\u001b[43m(\u001b[49m\u001b[43m)\u001b[49m\n\u001b[0;32m      3\u001b[0m person_instance2 \u001b[38;5;241m=\u001b[39m Person()\n\u001b[0;32m      5\u001b[0m \u001b[38;5;28mprint\u001b[39m(person_instance1\u001b[38;5;241m.\u001b[39mgreeting())\n",
      "\u001b[1;31mTypeError\u001b[0m: Person.__init__() missing 2 required positional arguments: 'name' and 'age'"
     ]
    }
   ],
   "source": [
    "# 객체 생성\n",
    "person_instance1 = Person()\n",
    "person_instance2 = Person()\n",
    "\n",
    "print(person_instance1.greeting())\n",
    "print(person_instance1.information())\n",
    "print(person_instance1.favorite('blue'))"
   ]
  },
  {
   "cell_type": "markdown",
   "metadata": {},
   "source": [
    "### 01-02-03. 생성자\n",
    "* init 메소드는 객체가 생성될 때 자동으로 호출되는 메소드(생성자)이다.\n",
    "* 매개변수를 전달해 인스턴스(객체)의 속성을 초기화 할 수 있다."
   ]
  },
  {
   "cell_type": "code",
   "execution_count": 10,
   "metadata": {},
   "outputs": [],
   "source": [
    "class Person:\n",
    "    national = 'korea'\n",
    "    language = 'korean'\n",
    "    \n",
    "    def __init__(self, name, age):\n",
    "        self.name = name\n",
    "        self.age = age\n",
    "    \n",
    "    def greeting(self):\n",
    "        return 'Nice to meet you.'\n",
    "    \n",
    "    def information(self):\n",
    "        return f\"I'm from {self.national} and I use {self.language}. My name is {self.name}. My age is {self.age}.\" \n",
    "    \n",
    "    def favorite(self, color):\n",
    "        return f'I love {color}.'"
   ]
  },
  {
   "cell_type": "code",
   "execution_count": 12,
   "metadata": {},
   "outputs": [
    {
     "name": "stdout",
     "output_type": "stream",
     "text": [
      "Nice to meet you.\n",
      "I'm from korea and I use korean. My name is Bear. My age is 20.\n",
      "I love blue.\n",
      "Nice to meet you.\n",
      "I'm from korea and I use korean. My name is Pig. My age is 25.\n",
      "I love blue.\n"
     ]
    }
   ],
   "source": [
    "# 객체 생성\n",
    "person_instance1 = Person('Bear', 20)\n",
    "person_instance2 = Person('Pig', 25)\n",
    "\n",
    "print(person_instance1.greeting())\n",
    "print(person_instance1.information())\n",
    "print(person_instance1.favorite('blue'))\n",
    "\n",
    "print(person_instance2.greeting())\n",
    "print(person_instance2.information())\n",
    "print(person_instance2.favorite('blue'))"
   ]
  }
 ],
 "metadata": {
  "kernelspec": {
   "display_name": "pylecture_env",
   "language": "python",
   "name": "python3"
  },
  "language_info": {
   "codemirror_mode": {
    "name": "ipython",
    "version": 3
   },
   "file_extension": ".py",
   "mimetype": "text/x-python",
   "name": "python",
   "nbconvert_exporter": "python",
   "pygments_lexer": "ipython3",
   "version": "3.12.7"
  }
 },
 "nbformat": 4,
 "nbformat_minor": 2
}
