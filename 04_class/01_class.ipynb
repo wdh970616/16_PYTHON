{
 "cells": [
  {
   "cell_type": "markdown",
   "metadata": {
    "vscode": {
     "languageId": "plaintext"
    }
   },
   "source": [
    "# 01. 클래스"
   ]
  },
  {
   "cell_type": "markdown",
   "metadata": {},
   "source": [
    "\n",
    "---\n",
    "## 01-01. 클래스 개요\n",
    "### 01-01-01. 클래스란?\n",
    "* 객체지향(OOP)를 지원하는 중요한 개념\n",
    "* 추상화된 데이터와 함수(메소드)를 하나의 단위로 묶어 만들 수 있다.\n",
    "* 클래스를 사용해 인스턴스를 생성하여 객체 단위로 사용할 수 있다.\n",
    "### 01-01-02. 클래스 표현식\n",
    "* class 키워드와 콜론을 이용해 클래스를 정의한다.\n",
    "* 클래스 정의시에도 **'반드시** 클래스의 내용이 될 블록을 들여쓰기한다."
   ]
  },
  {
   "cell_type": "code",
   "execution_count": null,
   "metadata": {},
   "outputs": [],
   "source": [
    "class Person:\n",
    "    national : 'korea'\n",
    "    \n",
    "    def greeting(self):\n",
    "        return 'Hello. This is Python'"
   ]
  },
  {
   "cell_type": "markdown",
   "metadata": {},
   "source": [
    "---\n",
    "## 01-02. 클래스의 구성 요소\n",
    "### 01-02-01. 클래스의 속성\n",
    "* 클래스 자체에 속하는 변수로 모든 인스턴스가 공유한다."
   ]
  },
  {
   "cell_type": "code",
   "execution_count": 1,
   "metadata": {},
   "outputs": [
    {
     "name": "stdout",
     "output_type": "stream",
     "text": [
      "korea\n",
      "korean\n"
     ]
    }
   ],
   "source": [
    "class Person:\n",
    "    national = 'korea'\n",
    "    language = 'korean'\n",
    "\n",
    "print(Person.national)\n",
    "print(Person.language)"
   ]
  },
  {
   "cell_type": "markdown",
   "metadata": {},
   "source": [
    "### 01-02-03. 메소드(method)\n",
    "* 클래스 내부에 정의된 함수로 인스턴스의 데이터를 조작하거나 동작을 정의한다.\n",
    "* 메소드 호출 시 객체의 주소값이 첫번째 인자로 넘어오기 때문에 객체를 통한 접근시 호출되는 메소드의 첫번째 인자는 항상 self여야한다."
   ]
  },
  {
   "cell_type": "code",
   "execution_count": null,
   "metadata": {},
   "outputs": [],
   "source": [
    "class Person:\n",
    "    national = 'korea'\n",
    "    language = 'korean'\n",
    "    \n",
    "    def greeting(self):\n",
    "        return '안녕하세요'\n",
    "    \n",
    "    def information(self):\n",
    "        return f\"I'm from {self.national} and I use {self.language}\" "
   ]
  },
  {
   "cell_type": "code",
   "execution_count": null,
   "metadata": {},
   "outputs": [],
   "source": [
    "# 객체 생성\n",
    "person_instance1 = Person()\n",
    "person_instance2 = Person()"
   ]
  }
 ],
 "metadata": {
  "kernelspec": {
   "display_name": "pylecture_env",
   "language": "python",
   "name": "python3"
  },
  "language_info": {
   "codemirror_mode": {
    "name": "ipython",
    "version": 3
   },
   "file_extension": ".py",
   "mimetype": "text/x-python",
   "name": "python",
   "nbconvert_exporter": "python",
   "pygments_lexer": "ipython3",
   "version": "3.12.7"
  }
 },
 "nbformat": 4,
 "nbformat_minor": 2
}
